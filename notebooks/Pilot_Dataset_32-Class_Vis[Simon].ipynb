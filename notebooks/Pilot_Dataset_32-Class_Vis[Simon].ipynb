{
 "cells": [
  {
   "cell_type": "code",
   "execution_count": 13,
   "metadata": {},
   "outputs": [],
   "source": [
    "import numpy as np\n",
    "import matplotlib.pyplot as plt\n",
    "from matplotlib.pyplot import cm\n",
    "import seaborn as sns\n",
    "sns.set_theme()\n",
    "import pandas as pd\n",
    "import mne\n",
    "from scipy.fftpack import fft"
   ]
  },
  {
   "cell_type": "code",
   "execution_count": 12,
   "metadata": {},
   "outputs": [],
   "source": [
    "data_path = \"../data/eeg_recordings/pilot_data/simon/s32/\"\n",
    "eeg = pd.read_csv(data_path + 'eeg1.csv').astype(float)\n",
    "meta = np.loadtxt(data_path + 'meta1.csv', delimiter=',', dtype=float)\n",
    "trials = meta[1:,:2]\n",
    "classes = np.unique(trials, axis=0)\n",
    "times = meta[:,2]\n",
    "times = (times - times[0])[1:]\n",
    "eeg['time'] = eeg['time'] - eeg['time'].iloc[0]\n",
    "eeg = np.array([eeg.loc[eeg['time']>t].drop(columns=['time',' TRG']).to_numpy()[:1725].T for t in times])[:,:,225:]\n",
    "eeg = mne.filter.filter_data(eeg, sfreq=300, l_freq=5, h_freq=49, verbose=0, method='fir')\n",
    "eeg_temp = []\n",
    "for i in range(len(classes)):\n",
    "    eeg_temp.append([])\n",
    "for i,freq in enumerate(trials):\n",
    "    for j,target in enumerate(classes):\n",
    "        if (freq==target).all():\n",
    "            eeg_temp[j].append(eeg[i])\n",
    "eeg = np.array(eeg_temp).transpose(1,0,2,3)\n",
    "\n",
    "\n",
    "# eeg_mean = eeg.mean(axis=0)\n",
    "\n",
    "freqs = np.linspace(0.0, 300 / 2, 750)\n",
    "psd = 2/750*np.abs(fft(eeg_mean)[:,:,:750])\n",
    "plt.figure(figsize=(24, 6))\n",
    "ax = plt.subplot()\n",
    "ax.set_xlim(5, 30)\n",
    "# colors=cm.coolwarm(np.linspace(0,1,len(classes)))\n",
    "# for i,c in enumerate(colors):\n",
    "#     sns.lineplot(x=freqs, y=psd[i,0,:], ax=ax, label=str(classes[i]),color=c)\n",
    "# plt.xticks(range(5,30));"
   ]
  },
  {
   "cell_type": "code",
   "execution_count": null,
   "metadata": {},
   "outputs": [],
   "source": []
  }
 ],
 "metadata": {
  "interpreter": {
   "hash": "4f95cac2866d48a154725f15da66ad3889a01053732bcd1fedad154961939282"
  },
  "kernelspec": {
   "display_name": "Python 3.9.6 64-bit",
   "language": "python",
   "name": "python3"
  },
  "language_info": {
   "codemirror_mode": {
    "name": "ipython",
    "version": 3
   },
   "file_extension": ".py",
   "mimetype": "text/x-python",
   "name": "python",
   "nbconvert_exporter": "python",
   "pygments_lexer": "ipython3",
   "version": "3.9.6"
  },
  "orig_nbformat": 4
 },
 "nbformat": 4,
 "nbformat_minor": 2
}
