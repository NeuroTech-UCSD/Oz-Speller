{
 "cells": [
  {
   "cell_type": "code",
   "execution_count": 1,
   "metadata": {},
   "outputs": [
    {
     "name": "stderr",
     "output_type": "stream",
     "text": [
      "c:\\Users\\simon\\AppData\\Local\\Programs\\Python\\Python39\\lib\\site-packages\\tqdm\\auto.py:22: TqdmWarning: IProgress not found. Please update jupyter and ipywidgets. See https://ipywidgets.readthedocs.io/en/stable/user_install.html\n",
      "  from .autonotebook import tqdm as notebook_tqdm\n"
     ]
    }
   ],
   "source": [
    "import numpy as np\n",
    "import matplotlib.pyplot as plt\n",
    "from matplotlib.pyplot import cm\n",
    "from matplotlib import patches\n",
    "import seaborn as sns\n",
    "sns.set_theme()\n",
    "import pandas as pd\n",
    "import mne\n",
    "from scipy.fftpack import fft\n",
    "from numpy.fft import rfft, irfft, rfftfreq\n",
    "from sklearn.cross_decomposition import CCA\n",
    "from sklearn.decomposition import PCA\n",
    "import tensorflow as tf\n",
    "from sklearn.model_selection import KFold, StratifiedKFold\n",
    "from sklearn.metrics import confusion_matrix, accuracy_score\n",
    "from meegkit import dss, ress\n",
    "from meegkit import sns as msns\n",
    "from meegkit.utils import unfold, rms, fold, tscov, matmul3d, snr_spectrum\n",
    "from brainda.paradigms import SSVEP\n",
    "from brainda.algorithms.utils.model_selection import (\n",
    "    set_random_seeds, \n",
    "    generate_loo_indices, match_loo_indices)\n",
    "from brainda.algorithms.decomposition import (\n",
    "    FBTRCA, FBTDCA, FBSCCA, FBECCA, FBDSP,\n",
    "    generate_filterbank, generate_cca_references)\n",
    "from collections import OrderedDict\n",
    "import numpy as np\n",
    "from scipy.signal import sosfiltfilt\n",
    "from sklearn.pipeline import clone\n",
    "from sklearn.metrics import balanced_accuracy_score"
   ]
  },
  {
   "cell_type": "code",
   "execution_count": 2,
   "metadata": {},
   "outputs": [],
   "source": [
    "def load_data_temp_function(eeg, meta, classes, stim_duration=5, filter=True):\n",
    "    trials = meta[1:,:2]\n",
    "    times = []\n",
    "    for index, row in eeg.loc[eeg[' TRG']==1].iterrows():\n",
    "        if eeg.iloc[index-1][' TRG'] == 0:\n",
    "            # print(row['time'])\n",
    "            times.append(row['time'])\n",
    "    times = np.array(times)\n",
    "    # eeg['time'] = eeg['time'] - eeg['time'].iloc[0]\n",
    "    # eeg = np.array([eeg.loc[eeg['time']>t].drop(columns=['time',' TRG']).to_numpy()[:1725].T for t in times])[:,:,225:]\n",
    "    # eeg = np.array([eeg.loc[eeg['time']>t].drop(columns=['time']).to_numpy()[:1725].T for t in times])[:,:,225:]\n",
    "    eeg = np.array([eeg.loc[eeg['time']>t].drop(columns=['time',' TRG']).to_numpy()[:1500].T for t in times])\n",
    "    if filter:\n",
    "        eeg = mne.filter.filter_data(eeg, sfreq=300, l_freq=5, h_freq=49, verbose=0, method='fir')\n",
    "    # eeg = mne.filter.filter_data(eeg, sfreq=300, l_freq=5, h_freq=49, verbose=0, method='fir',phase='minimum')\n",
    "    eeg_temp = []\n",
    "    for i in range(len(classes)):\n",
    "        eeg_temp.append([])\n",
    "    for i,freq in enumerate(trials):\n",
    "        for j,target in enumerate(classes):\n",
    "            if (freq==target).all():\n",
    "                eeg_temp[j].append(eeg[i])\n",
    "    eeg = np.array(eeg_temp).transpose(1,0,2,3)\n",
    "    return eeg"
   ]
  },
  {
   "cell_type": "code",
   "execution_count": 13,
   "metadata": {},
   "outputs": [
    {
     "data": {
      "text/plain": [
       "((5, 32, 7, 1500), (5, 32, 2))"
      ]
     },
     "execution_count": 13,
     "metadata": {},
     "output_type": "execute_result"
    }
   ],
   "source": [
    "sub_dirs = ['8hz/','9hz/','10hz/','11hz/','12hz/','13hz/','14hz/','15hz/']\n",
    "duration = 5\n",
    "\n",
    "# load experimental dataset\n",
    "eeg_whole = np.zeros((5,32,7,1500))\n",
    "target_tab = {}\n",
    "i_class = 0\n",
    "for i_dir,sub_dir in enumerate(sub_dirs):\n",
    "\n",
    "    data_path = \"../data/eeg_recordings/pilot_data/simon/ws32_6/\" + sub_dir\n",
    "    eeg = pd.read_csv(data_path + 'eeg.csv').astype(float)\n",
    "    meta = np.loadtxt(data_path + 'meta.csv', delimiter=',', dtype=float)\n",
    "    trials = meta[1:,:2]\n",
    "    classes = np.unique(trials, axis=0)\n",
    "    more_targets = {tuple(target):index+i_class for index,target in enumerate(classes)}\n",
    "    target_tab.update(more_targets)\n",
    "    eeg = load_data_temp_function(eeg, meta, classes, stim_duration=duration,filter=False)\n",
    "    eeg_whole[:,i_class:(i_class+4),:,:] = eeg\n",
    "    i_class+=4\n",
    "eeg1 = eeg_whole\n",
    "target_by_trial = [list(target_tab.keys())] * 5\n",
    "eeg1.shape, np.array(target_by_trial).shape "
   ]
  },
  {
   "cell_type": "code",
   "execution_count": 14,
   "metadata": {},
   "outputs": [
    {
     "data": {
      "text/plain": [
       "((5, 32, 7, 1500), (10, 32, 2))"
      ]
     },
     "execution_count": 14,
     "metadata": {},
     "output_type": "execute_result"
    }
   ],
   "source": [
    "sub_dirs = ['8hz/','9hz/','10hz/','11hz/','12hz/','13hz/','14hz/','15hz/']\n",
    "duration = 5\n",
    "\n",
    "# load experimental dataset\n",
    "eeg_whole = np.zeros((5,32,7,1500))\n",
    "target_tab = {}\n",
    "i_class = 0\n",
    "for i_dir,sub_dir in enumerate(sub_dirs):\n",
    "\n",
    "    data_path = \"../data/eeg_recordings/pilot_data/simon/ws32_7/\" + sub_dir\n",
    "    eeg = pd.read_csv(data_path + 'eeg.csv').astype(float)\n",
    "    meta = np.loadtxt(data_path + 'meta.csv', delimiter=',', dtype=float)\n",
    "    trials = meta[1:,:2]\n",
    "    classes = np.unique(trials, axis=0)\n",
    "    more_targets = {tuple(target):index+i_class for index,target in enumerate(classes)}\n",
    "    target_tab.update(more_targets)\n",
    "    eeg = load_data_temp_function(eeg, meta, classes, stim_duration=duration,filter=False)\n",
    "    eeg_whole[:,i_class:(i_class+4),:,:] = eeg\n",
    "    i_class+=4\n",
    "eeg2 = eeg_whole\n",
    "target_by_trial = [list(target_tab.keys())] * 10\n",
    "eeg2.shape, np.array(target_by_trial).shape "
   ]
  },
  {
   "cell_type": "code",
   "execution_count": 15,
   "metadata": {},
   "outputs": [
    {
     "data": {
      "text/plain": [
       "(10, 32, 7, 1500)"
      ]
     },
     "execution_count": 15,
     "metadata": {},
     "output_type": "execute_result"
    }
   ],
   "source": [
    "eeg = np.vstack((eeg1,eeg2))\n",
    "eeg.shape"
   ]
  },
  {
   "cell_type": "code",
   "execution_count": 16,
   "metadata": {},
   "outputs": [
    {
     "name": "stdout",
     "output_type": "stream",
     "text": [
      "Model:fbdsp LOO Acc:0.26\n",
      "Model:fbtrca LOO Acc:0.28\n",
      "Model:fbtdca LOO Acc:0.35\n"
     ]
    }
   ],
   "source": [
    "n_trials = 10\n",
    "y = np.array([list(target_tab.values())] * n_trials).T.reshape(-1)\n",
    "eeg_temp = eeg[:,:,:,40:]\n",
    "# X = eeg.swapaxes(0,1).reshape(-1,*eeg.shape[2:])\n",
    "X = eeg_temp.swapaxes(0,1).reshape(-1,*eeg_temp.shape[2:])\n",
    "\n",
    "\n",
    "freq_targets = np.array(target_by_trial)[0,:,0]\n",
    "phase_targets = np.array(target_by_trial)[0,:,1]\n",
    "n_harmonics = 5\n",
    "n_bands = 3\n",
    "srate = 300\n",
    "duration = 0.5\n",
    "Yf = generate_cca_references(\n",
    "    freq_targets, srate, duration, \n",
    "    phases=phase_targets, \n",
    "    n_harmonics=n_harmonics)\n",
    "wp = [[8*i, 90] for i in range(1, n_bands+1)]\n",
    "ws = [[8*i-2, 95] for i in range(1, n_bands+1)]\n",
    "filterbank = generate_filterbank(\n",
    "    wp, ws, srate, order=4, rp=1)\n",
    "filterweights = np.arange(1, len(filterbank)+1)**(-1.25) + 0.25\n",
    "set_random_seeds(64)\n",
    "l = 5\n",
    "models = OrderedDict([\n",
    "    # ('fbscca', FBSCCA(\n",
    "    #         filterbank, filterweights=filterweights)),\n",
    "    # ('fbecca', FBECCA(\n",
    "    #         filterbank, filterweights=filterweights)),\n",
    "    ('fbdsp', FBDSP(\n",
    "            filterbank, filterweights=filterweights)),\n",
    "    ('fbtrca', FBTRCA(\n",
    "            filterbank, filterweights=filterweights)),\n",
    "    ('fbtdca', FBTDCA(\n",
    "            filterbank, l, n_components=8, \n",
    "            filterweights=filterweights)),\n",
    "])\n",
    "events = []\n",
    "for j_class in range(32):\n",
    "    events.extend([str(target_by_trial[i_trial][j_class]) for i_trial in range(n_trials)])\n",
    "events = np.array(events)\n",
    "subjects = ['1'] * (32*n_trials)\n",
    "meta = pd.DataFrame(data=np.array([subjects,events]).T, columns=[\"subject\", \"event\"])\n",
    "set_random_seeds(42)\n",
    "loo_indices = generate_loo_indices(meta)\n",
    "\n",
    "for model_name in models:\n",
    "    if model_name == 'fbtdca':\n",
    "        filterX, filterY = np.copy(X[..., :int(srate*duration)+l]), np.copy(y)\n",
    "    else:\n",
    "        filterX, filterY = np.copy(X[..., :int(srate*duration)]), np.copy(y)\n",
    "    \n",
    "    filterX = filterX - np.mean(filterX, axis=-1, keepdims=True)\n",
    "\n",
    "    n_loo = len(loo_indices['1'][events[0]])\n",
    "    loo_accs = []\n",
    "    for k in range(n_loo):\n",
    "        train_ind, validate_ind, test_ind = match_loo_indices(\n",
    "            k, meta, loo_indices)\n",
    "        train_ind = np.concatenate([train_ind, validate_ind])\n",
    "\n",
    "        trainX, trainY = filterX[train_ind], filterY[train_ind]\n",
    "        testX, testY = filterX[test_ind], filterY[test_ind]\n",
    "\n",
    "        model = clone(models[model_name]).fit(\n",
    "            trainX, trainY,\n",
    "            Yf=Yf\n",
    "        )\n",
    "        pred_labels = model.predict(testX)\n",
    "        loo_accs.append(\n",
    "            balanced_accuracy_score(testY, pred_labels))\n",
    "    print(\"Model:{} LOO Acc:{:.2f}\".format(model_name, np.mean(loo_accs)))"
   ]
  },
  {
   "cell_type": "code",
   "execution_count": null,
   "metadata": {},
   "outputs": [],
   "source": []
  },
  {
   "cell_type": "code",
   "execution_count": null,
   "metadata": {},
   "outputs": [],
   "source": []
  }
 ],
 "metadata": {
  "kernelspec": {
   "display_name": "Python 3.9.6 64-bit",
   "language": "python",
   "name": "python3"
  },
  "language_info": {
   "codemirror_mode": {
    "name": "ipython",
    "version": 3
   },
   "file_extension": ".py",
   "mimetype": "text/x-python",
   "name": "python",
   "nbconvert_exporter": "python",
   "pygments_lexer": "ipython3",
   "version": "3.9.6"
  },
  "orig_nbformat": 4,
  "vscode": {
   "interpreter": {
    "hash": "4f95cac2866d48a154725f15da66ad3889a01053732bcd1fedad154961939282"
   }
  }
 },
 "nbformat": 4,
 "nbformat_minor": 2
}
